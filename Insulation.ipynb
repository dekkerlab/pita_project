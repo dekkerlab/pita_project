{
 "cells": [
  {
   "cell_type": "code",
   "execution_count": 1,
   "id": "2cf9a49e-2032-4402-aef9-f8715912d3f5",
   "metadata": {
    "execution": {
     "iopub.execute_input": "2023-10-27T13:41:10.043539Z",
     "iopub.status.busy": "2023-10-27T13:41:10.043193Z",
     "iopub.status.idle": "2023-10-27T13:41:10.683858Z",
     "shell.execute_reply": "2023-10-27T13:41:10.683362Z",
     "shell.execute_reply.started": "2023-10-27T13:41:10.043511Z"
    }
   },
   "outputs": [],
   "source": [
    "import pandas as pd\n",
    "import bioframe\n",
    "import matplotlib.pyplot as plt\n",
    "import numpy as np"
   ]
  },
  {
   "cell_type": "code",
   "execution_count": 2,
   "id": "e74ce7e5-b14f-48cf-b83a-e2f27a6be1b0",
   "metadata": {
    "execution": {
     "iopub.execute_input": "2023-10-27T13:41:11.113555Z",
     "iopub.status.busy": "2023-10-27T13:41:11.113081Z",
     "iopub.status.idle": "2023-10-27T13:41:11.118051Z",
     "shell.execute_reply": "2023-10-27T13:41:11.117629Z",
     "shell.execute_reply.started": "2023-10-27T13:41:11.113531Z"
    }
   },
   "outputs": [],
   "source": [
    "from matplotlib.colors import LogNorm, Normalize\n",
    "# https://stackoverflow.com/questions/48625475/python-shifted-logarithmic-colorbar-white-color-offset-to-center\n",
    "class MidPointLogNorm(LogNorm):\n",
    "    def __init__(self, vmin=None, vmax=None, midpoint=None, clip=False):\n",
    "        LogNorm.__init__(self, vmin=vmin, vmax=vmax, clip=clip)\n",
    "        self.midpoint=midpoint\n",
    "    def __call__(self, value, clip=None):\n",
    "        result, is_scalar = self.process_value(value)\n",
    "        x, y = [np.log(self.vmin), np.log(self.midpoint), np.log(self.vmax)], [0, 0.5, 1]\n",
    "        return np.ma.array(np.interp(np.log(value), x, y), mask=result.mask, copy=False)"
   ]
  },
  {
   "cell_type": "code",
   "execution_count": 3,
   "id": "c7707fd4-ed51-4e3f-a5db-016671b84dc8",
   "metadata": {
    "execution": {
     "iopub.execute_input": "2023-10-27T13:41:15.739308Z",
     "iopub.status.busy": "2023-10-27T13:41:15.738888Z",
     "iopub.status.idle": "2023-10-27T13:41:16.668377Z",
     "shell.execute_reply": "2023-10-27T13:41:16.667872Z",
     "shell.execute_reply.started": "2023-10-27T13:41:15.739285Z"
    }
   },
   "outputs": [],
   "source": [
    "# import standard python libraries\n",
    "import seaborn as sns\n",
    "# import libraries for biological data analysis\n",
    "from coolpuppy import coolpup as cp\n",
    "import cooler\n",
    "import bioframe\n",
    "# only to get the \"fall\" colormap ...\n",
    "import cooltools.lib.plotting"
   ]
  },
  {
   "cell_type": "code",
   "execution_count": 7,
   "id": "1b8186d1-c66e-414b-8936-b0df32e541ef",
   "metadata": {
    "execution": {
     "iopub.execute_input": "2023-10-27T13:45:51.370407Z",
     "iopub.status.busy": "2023-10-27T13:45:51.370110Z",
     "iopub.status.idle": "2023-10-27T13:45:51.373364Z",
     "shell.execute_reply": "2023-10-27T13:45:51.372942Z",
     "shell.execute_reply.started": "2023-10-27T13:45:51.370388Z"
    }
   },
   "outputs": [],
   "source": [
    "import scipy\n",
    "from cooltools import expected_cis\n",
    "from mpire import WorkerPool\n",
    "from cooltools import insulation"
   ]
  },
  {
   "cell_type": "markdown",
   "id": "b8adc63b-40de-4c53-9647-a4183f8debfb",
   "metadata": {},
   "source": [
    "# Load coolers to get insulations\n"
   ]
  },
  {
   "cell_type": "code",
   "execution_count": 5,
   "id": "497c9d6c-4281-4149-891e-836d7b9bbaa1",
   "metadata": {
    "execution": {
     "iopub.execute_input": "2023-10-27T13:42:24.533079Z",
     "iopub.status.busy": "2023-10-27T13:42:24.532377Z",
     "iopub.status.idle": "2023-10-27T13:42:24.554411Z",
     "shell.execute_reply": "2023-10-27T13:42:24.553991Z",
     "shell.execute_reply.started": "2023-10-27T13:42:24.533052Z"
    }
   },
   "outputs": [],
   "source": [
    "# get our coolers ...?\n",
    "clr_fnames = {\n",
    "    \"esc\": \"esc_microc.hg38.mapq_30.250.mcool\",\n",
    "    \"hff\": \"hff_microc.hg38.mapq_30.250.mcool\",\n",
    "}\n",
    "\n",
    "clrs = {}\n",
    "binsize = 500\n",
    "\n",
    "for k,f in clr_fnames.items():\n",
    "    clrs[k] = cooler.Cooler(f\"{f}::/resolutions/{binsize}\")"
   ]
  },
  {
   "cell_type": "code",
   "execution_count": 9,
   "id": "46bb7df9-ec99-4bad-ab3c-d8788eddab69",
   "metadata": {
    "execution": {
     "iopub.execute_input": "2023-10-27T13:54:25.591141Z",
     "iopub.status.busy": "2023-10-27T13:54:25.590503Z",
     "iopub.status.idle": "2023-10-27T13:54:26.034893Z",
     "shell.execute_reply": "2023-10-27T13:54:26.034383Z",
     "shell.execute_reply.started": "2023-10-27T13:54:25.591115Z"
    }
   },
   "outputs": [],
   "source": [
    "# Use bioframe to fetch the genomic features from the UCSC.\n",
    "hg38_chromsizes = bioframe.fetch_chromsizes('hg38')\n",
    "hg38_cens = bioframe.fetch_centromeres('hg38')\n",
    "# create a view with chromosome arms using chromosome sizes and definition of centromeres\n",
    "hg38_arms_full = bioframe.make_chromarms(hg38_chromsizes,  hg38_cens)\n",
    "\n",
    "# can do 1 chromosome (or arm) as well ..\n",
    "included_arms = hg38_arms_full[\"name\"].to_list()[:44] # all autosomal ones ...\n",
    "hg38_arms = hg38_arms_full[hg38_arms_full[\"name\"].isin(included_arms)].reset_index(drop=True)"
   ]
  },
  {
   "cell_type": "code",
   "execution_count": 10,
   "id": "40022f75-71a3-4b64-a169-c24f5cc78497",
   "metadata": {
    "execution": {
     "iopub.execute_input": "2023-10-27T13:55:00.280519Z",
     "iopub.status.busy": "2023-10-27T13:55:00.279980Z",
     "iopub.status.idle": "2023-10-27T15:40:00.879259Z",
     "shell.execute_reply": "2023-10-27T15:40:00.878699Z",
     "shell.execute_reply.started": "2023-10-27T13:55:00.280492Z"
    }
   },
   "outputs": [
    {
     "name": "stderr",
     "output_type": "stream",
     "text": [
      "INFO:root:Processing region chr5_p\n",
      "INFO:root:Processing region chr2_p\n",
      "INFO:root:Processing region chr6_p\n",
      "INFO:root:Processing region chr3_p\n",
      "INFO:root:Processing region chr4_p\n",
      "INFO:root:Processing region chr8_p\n",
      "INFO:root:Processing region chr1_p\n",
      "INFO:root:Processing region chr7_p\n",
      "INFO:root:Processing region chr5_q\n",
      "INFO:root:Processing region chr8_q\n",
      "INFO:root:Processing region chr4_q\n",
      "INFO:root:Processing region chr7_q\n",
      "INFO:root:Processing region chr6_q\n",
      "INFO:root:Processing region chr2_q\n",
      "INFO:root:Processing region chr3_q\n",
      "INFO:root:Processing region chr9_p\n",
      "INFO:root:Processing region chr10_p\n",
      "INFO:root:Processing region chr11_p\n",
      "INFO:root:Processing region chr1_q\n",
      "INFO:root:Processing region chr12_p\n",
      "INFO:root:Processing region chr13_p\n",
      "INFO:root:Processing region chr13_q\n",
      "INFO:root:Processing region chr9_q\n",
      "INFO:root:Processing region chr10_q\n",
      "INFO:root:Processing region chr12_q\n",
      "INFO:root:Processing region chr14_p\n",
      "INFO:root:Processing region chr14_q\n",
      "INFO:root:Processing region chr11_q\n",
      "INFO:root:Processing region chr15_p\n",
      "INFO:root:Processing region chr15_q\n",
      "INFO:root:Processing region chr16_p\n",
      "INFO:root:Processing region chr17_p\n",
      "INFO:root:Processing region chr18_p\n",
      "INFO:root:Processing region chr18_q\n",
      "INFO:root:Processing region chr19_p\n",
      "INFO:root:Processing region chr20_p\n",
      "INFO:root:Processing region chr17_q\n",
      "INFO:root:Processing region chr16_q\n",
      "INFO:root:Processing region chr21_p\n",
      "INFO:root:Processing region chr21_q\n",
      "INFO:root:Processing region chr22_p\n",
      "INFO:root:Processing region chr22_q\n",
      "INFO:root:Processing region chr19_q\n",
      "INFO:root:Processing region chr20_q\n",
      "INFO:root:Processing region chr5_p\n",
      "INFO:root:Processing region chr4_p\n",
      "INFO:root:Processing region chr6_p\n",
      "INFO:root:Processing region chr8_p\n",
      "INFO:root:Processing region chr3_p\n",
      "INFO:root:Processing region chr7_p\n",
      "INFO:root:Processing region chr2_p\n",
      "INFO:root:Processing region chr1_p\n",
      "INFO:root:Processing region chr5_q\n",
      "INFO:root:Processing region chr8_q\n",
      "INFO:root:Processing region chr4_q\n",
      "INFO:root:Processing region chr7_q\n",
      "INFO:root:Processing region chr6_q\n",
      "INFO:root:Processing region chr3_q\n",
      "INFO:root:Processing region chr1_q\n",
      "INFO:root:Processing region chr2_q\n",
      "INFO:root:Processing region chr9_p\n",
      "INFO:root:Processing region chr10_p\n",
      "INFO:root:Processing region chr11_p\n",
      "INFO:root:Processing region chr12_p\n",
      "INFO:root:Processing region chr9_q\n",
      "INFO:root:Processing region chr10_q\n",
      "INFO:root:Processing region chr13_p\n",
      "INFO:root:Processing region chr13_q\n",
      "INFO:root:Processing region chr14_p\n",
      "INFO:root:Processing region chr14_q\n",
      "INFO:root:Processing region chr12_q\n",
      "INFO:root:Processing region chr11_q\n",
      "INFO:root:Processing region chr15_p\n",
      "INFO:root:Processing region chr15_q\n",
      "INFO:root:Processing region chr16_p\n",
      "INFO:root:Processing region chr17_p\n",
      "INFO:root:Processing region chr18_p\n",
      "INFO:root:Processing region chr19_p\n",
      "INFO:root:Processing region chr20_p\n",
      "INFO:root:Processing region chr16_q\n",
      "INFO:root:Processing region chr18_q\n",
      "INFO:root:Processing region chr17_q\n",
      "INFO:root:Processing region chr21_p\n",
      "INFO:root:Processing region chr21_q\n",
      "INFO:root:Processing region chr19_q\n",
      "INFO:root:Processing region chr22_p\n",
      "INFO:root:Processing region chr22_q\n",
      "INFO:root:Processing region chr20_q\n"
     ]
    }
   ],
   "source": [
    "windows = [5*binsize, 10*binsize, 50*binsize]\n",
    "\n",
    "insulation_dict = {}\n",
    "for k, clr in clrs.items():\n",
    "    insulation_dict[k] = insulation(\n",
    "        clr,\n",
    "        windows,\n",
    "        view_df=hg38_arms,\n",
    "        verbose=True,\n",
    "        nproc=8,\n",
    "    )"
   ]
  },
  {
   "cell_type": "code",
   "execution_count": 21,
   "id": "8e254aab-eb0e-4c9f-bc85-bba34b1e5e8c",
   "metadata": {
    "execution": {
     "iopub.execute_input": "2023-10-27T15:52:14.433814Z",
     "iopub.status.busy": "2023-10-27T15:52:14.433248Z",
     "iopub.status.idle": "2023-10-27T15:53:49.982227Z",
     "shell.execute_reply": "2023-10-27T15:53:49.981657Z",
     "shell.execute_reply.started": "2023-10-27T15:52:14.433794Z"
    }
   },
   "outputs": [],
   "source": [
    "# Write the insulation track as a bigwig:\n",
    "for k in clrs:\n",
    "    # derive output name based on cooler's name\n",
    "    kkk = clr_fnames[k]\n",
    "    out_fname = \".\".join( kkk.split(\".\")[:-1] )\n",
    "    # apparently insulation sometimes reports the same bin\n",
    "    df = insulation_dict[k].drop_duplicates(subset=[\"chrom\",\"start\",\"end\"])\n",
    "    for w in windows:\n",
    "        # store in bigwig ...\n",
    "        bioframe.to_bigwig(\n",
    "            df,\n",
    "            hg38_chromsizes,\n",
    "            f\"{out_fname}.insul.{w}.bw\",\n",
    "            value_field=f\"log2_insulation_score_{w}\",\n",
    "        )"
   ]
  },
  {
   "cell_type": "code",
   "execution_count": null,
   "id": "c73b939b-b4ae-4b7e-941e-642881a983ac",
   "metadata": {},
   "outputs": [],
   "source": []
  },
  {
   "cell_type": "code",
   "execution_count": null,
   "id": "daaf5882-20bd-4db3-aca1-89b8b6a3359a",
   "metadata": {},
   "outputs": [],
   "source": []
  },
  {
   "cell_type": "code",
   "execution_count": null,
   "id": "59ec7850-5771-4c76-bd1e-41a1a90c5b6f",
   "metadata": {},
   "outputs": [],
   "source": []
  },
  {
   "cell_type": "code",
   "execution_count": null,
   "id": "e2ea617b-48f9-475c-968a-bcddd92bbbd8",
   "metadata": {},
   "outputs": [],
   "source": []
  },
  {
   "cell_type": "code",
   "execution_count": null,
   "id": "c2439473-332b-4465-9a71-f6661bd9f4ed",
   "metadata": {},
   "outputs": [],
   "source": []
  },
  {
   "cell_type": "code",
   "execution_count": null,
   "id": "455a67b6-e9a2-4158-bd41-88a0dfb6cfd2",
   "metadata": {},
   "outputs": [],
   "source": []
  },
  {
   "cell_type": "code",
   "execution_count": null,
   "id": "05e271ca-1f03-4556-b8bf-d8e5f156c818",
   "metadata": {},
   "outputs": [],
   "source": []
  },
  {
   "cell_type": "code",
   "execution_count": null,
   "id": "957a2499-4081-44ca-a5b6-b17ca4250e5d",
   "metadata": {},
   "outputs": [],
   "source": []
  },
  {
   "cell_type": "code",
   "execution_count": null,
   "id": "aa952ed5-e4d2-4a6c-86e5-6242b1760b86",
   "metadata": {},
   "outputs": [],
   "source": []
  },
  {
   "cell_type": "code",
   "execution_count": null,
   "id": "545e82f9-acb4-43a9-a47e-0d73fd68e1ec",
   "metadata": {},
   "outputs": [],
   "source": []
  },
  {
   "cell_type": "code",
   "execution_count": null,
   "id": "49bffa04-dcda-4f4c-9af5-8d93a74204b4",
   "metadata": {},
   "outputs": [],
   "source": []
  },
  {
   "cell_type": "code",
   "execution_count": null,
   "id": "29f3f4b7-34ae-42fa-a65e-c00a267d6684",
   "metadata": {},
   "outputs": [],
   "source": []
  },
  {
   "cell_type": "code",
   "execution_count": null,
   "id": "aa7d7b56-9c80-490e-b846-99bc05625169",
   "metadata": {},
   "outputs": [],
   "source": []
  },
  {
   "cell_type": "code",
   "execution_count": null,
   "id": "9e7abb05-8150-4883-a7e5-0b3195af341b",
   "metadata": {},
   "outputs": [],
   "source": []
  },
  {
   "cell_type": "code",
   "execution_count": null,
   "id": "b5d9aa79-a0cd-4d40-8404-4ca142761c97",
   "metadata": {},
   "outputs": [],
   "source": []
  },
  {
   "cell_type": "code",
   "execution_count": null,
   "id": "d313fdee-479f-4e7a-a2e9-c4d2e11c68f7",
   "metadata": {},
   "outputs": [],
   "source": []
  },
  {
   "cell_type": "code",
   "execution_count": null,
   "id": "446a5d5d-e087-4471-ae0b-ebde7ceca3fa",
   "metadata": {},
   "outputs": [],
   "source": []
  },
  {
   "cell_type": "code",
   "execution_count": null,
   "id": "2b4f8543-fff6-4e59-bdd3-a88d60205fa2",
   "metadata": {},
   "outputs": [],
   "source": []
  }
 ],
 "metadata": {
  "kernelspec": {
   "display_name": "Python 3 (ipykernel)",
   "language": "python",
   "name": "python3"
  },
  "language_info": {
   "codemirror_mode": {
    "name": "ipython",
    "version": 3
   },
   "file_extension": ".py",
   "mimetype": "text/x-python",
   "name": "python",
   "nbconvert_exporter": "python",
   "pygments_lexer": "ipython3",
   "version": "3.9.15"
  }
 },
 "nbformat": 4,
 "nbformat_minor": 5
}
